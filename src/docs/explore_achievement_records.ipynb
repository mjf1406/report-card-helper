{
 "cells": [
  {
   "cell_type": "code",
   "execution_count": 25,
   "metadata": {},
   "outputs": [],
   "source": [
    "import pandas as pd\n",
    "\n",
    "earliest_year = \"2020-21\"\n",
    "current_year = \"2024-25\"\n",
    "\n",
    "student_achievement_records = \"Student Achievement Records 2020-24.xlsx\"\n",
    "dfs = pd.read_excel(student_achievement_records, sheet_name=None) # Read sheets into a dict of DFs\n",
    "\n",
    "g_5_24_25 = dfs[f'gr.5 {current_year}']"
   ]
  },
  {
   "cell_type": "code",
   "execution_count": null,
   "metadata": {},
   "outputs": [],
   "source": []
  }
 ],
 "metadata": {
  "kernelspec": {
   "display_name": "Python 3",
   "language": "python",
   "name": "python3"
  },
  "language_info": {
   "codemirror_mode": {
    "name": "ipython",
    "version": 3
   },
   "file_extension": ".py",
   "mimetype": "text/x-python",
   "name": "python",
   "nbconvert_exporter": "python",
   "pygments_lexer": "ipython3",
   "version": "3.12.1"
  }
 },
 "nbformat": 4,
 "nbformat_minor": 2
}
